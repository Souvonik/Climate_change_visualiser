{
  "nbformat": 4,
  "nbformat_minor": 0,
  "metadata": {
    "colab": {
      "provenance": []
    },
    "kernelspec": {
      "name": "python3",
      "display_name": "Python 3"
    },
    "language_info": {
      "name": "python"
    }
  },
  "cells": [
    {
      "cell_type": "code",
      "execution_count": 1,
      "metadata": {
        "colab": {
          "base_uri": "https://localhost:8080/"
        },
        "id": "yi_1-CbZ61Tm",
        "outputId": "a0d0ca49-c19a-4b8f-d095-a248f5358b51"
      },
      "outputs": [
        {
          "output_type": "stream",
          "name": "stdout",
          "text": [
            "Requirement already satisfied: prophet in /usr/local/lib/python3.11/dist-packages (1.1.6)\n",
            "Requirement already satisfied: cmdstanpy>=1.0.4 in /usr/local/lib/python3.11/dist-packages (from prophet) (1.2.5)\n",
            "Requirement already satisfied: numpy>=1.15.4 in /usr/local/lib/python3.11/dist-packages (from prophet) (2.0.2)\n",
            "Requirement already satisfied: matplotlib>=2.0.0 in /usr/local/lib/python3.11/dist-packages (from prophet) (3.10.0)\n",
            "Requirement already satisfied: pandas>=1.0.4 in /usr/local/lib/python3.11/dist-packages (from prophet) (2.2.2)\n",
            "Requirement already satisfied: holidays<1,>=0.25 in /usr/local/lib/python3.11/dist-packages (from prophet) (0.69)\n",
            "Requirement already satisfied: tqdm>=4.36.1 in /usr/local/lib/python3.11/dist-packages (from prophet) (4.67.1)\n",
            "Requirement already satisfied: importlib-resources in /usr/local/lib/python3.11/dist-packages (from prophet) (6.5.2)\n",
            "Requirement already satisfied: stanio<2.0.0,>=0.4.0 in /usr/local/lib/python3.11/dist-packages (from cmdstanpy>=1.0.4->prophet) (0.5.1)\n",
            "Requirement already satisfied: python-dateutil in /usr/local/lib/python3.11/dist-packages (from holidays<1,>=0.25->prophet) (2.8.2)\n",
            "Requirement already satisfied: contourpy>=1.0.1 in /usr/local/lib/python3.11/dist-packages (from matplotlib>=2.0.0->prophet) (1.3.1)\n",
            "Requirement already satisfied: cycler>=0.10 in /usr/local/lib/python3.11/dist-packages (from matplotlib>=2.0.0->prophet) (0.12.1)\n",
            "Requirement already satisfied: fonttools>=4.22.0 in /usr/local/lib/python3.11/dist-packages (from matplotlib>=2.0.0->prophet) (4.56.0)\n",
            "Requirement already satisfied: kiwisolver>=1.3.1 in /usr/local/lib/python3.11/dist-packages (from matplotlib>=2.0.0->prophet) (1.4.8)\n",
            "Requirement already satisfied: packaging>=20.0 in /usr/local/lib/python3.11/dist-packages (from matplotlib>=2.0.0->prophet) (24.2)\n",
            "Requirement already satisfied: pillow>=8 in /usr/local/lib/python3.11/dist-packages (from matplotlib>=2.0.0->prophet) (11.1.0)\n",
            "Requirement already satisfied: pyparsing>=2.3.1 in /usr/local/lib/python3.11/dist-packages (from matplotlib>=2.0.0->prophet) (3.2.1)\n",
            "Requirement already satisfied: pytz>=2020.1 in /usr/local/lib/python3.11/dist-packages (from pandas>=1.0.4->prophet) (2025.1)\n",
            "Requirement already satisfied: tzdata>=2022.7 in /usr/local/lib/python3.11/dist-packages (from pandas>=1.0.4->prophet) (2025.1)\n",
            "Requirement already satisfied: six>=1.5 in /usr/local/lib/python3.11/dist-packages (from python-dateutil->holidays<1,>=0.25->prophet) (1.17.0)\n"
          ]
        }
      ],
      "source": [
        "!pip install prophet\n"
      ]
    },
    {
      "cell_type": "code",
      "source": [
        "import pandas as pd\n",
        "from prophet import Prophet\n",
        "\n",
        "# Load dataset\n",
        "df = pd.read_csv('HadCRUT4.csv')\n",
        "\n",
        "# Combine 'Year' and 'Month' into a single datetime column\n",
        "df['Day'] = 1  # Add a dummy day\n",
        "df['ds'] = pd.to_datetime(df[['Year', 'Month', 'Day']])\n",
        "df = df.rename(columns={'Anomaly': 'y'})\n",
        "\n",
        "# Filter historical data until Dec 2020\n",
        "historical_df = df[df['ds'] <= '2020-12-31'][['ds', 'y']]\n",
        "\n",
        "# Initialize and train Prophet model\n",
        "model = Prophet(yearly_seasonality=True)\n",
        "model.fit(historical_df)\n",
        "\n",
        "# Forecast from Jan 2021 to Dec 2100\n",
        "future = model.make_future_dataframe(periods=80*12, freq='MS')  # 80 years * 12 months\n",
        "forecast = model.predict(future)\n",
        "\n",
        "# Filter predictions from 2021 onwards\n",
        "future_forecast = forecast[['ds', 'yhat']].copy()\n",
        "future_forecast = future_forecast[future_forecast['ds'] >= '2021-01-01']\n",
        "\n",
        "# Extract Year and Month, round to 3 decimal places\n",
        "future_forecast['Year'] = future_forecast['ds'].dt.year\n",
        "future_forecast['Month'] = future_forecast['ds'].dt.month\n",
        "future_forecast['Predicted_Anomaly'] = future_forecast['yhat'].round(3)\n",
        "\n",
        "# Select and reorder columns\n",
        "output_df = future_forecast[['Year', 'Month', 'Predicted_Anomaly']]\n",
        "\n",
        "# Save to CSV\n",
        "output_df.to_csv('predicted_anomalies_monthly_2021_2100.csv', index=False)\n",
        "\n",
        "print(\"Prediction complete. File saved as 'predicted_anomalies_monthly_2021_2100.csv'.\")\n"
      ],
      "metadata": {
        "colab": {
          "base_uri": "https://localhost:8080/"
        },
        "id": "EVoePpnO7qI5",
        "outputId": "e04a0617-8bf8-41c0-f136-202157e2c0e5"
      },
      "execution_count": 4,
      "outputs": [
        {
          "output_type": "stream",
          "name": "stderr",
          "text": [
            "INFO:prophet:Disabling weekly seasonality. Run prophet with weekly_seasonality=True to override this.\n",
            "INFO:prophet:Disabling daily seasonality. Run prophet with daily_seasonality=True to override this.\n",
            "DEBUG:cmdstanpy:input tempfile: /tmp/tmpq8p032gs/uojmq73z.json\n",
            "DEBUG:cmdstanpy:input tempfile: /tmp/tmpq8p032gs/_o_k6s53.json\n",
            "DEBUG:cmdstanpy:idx 0\n",
            "DEBUG:cmdstanpy:running CmdStan, num_threads: None\n",
            "DEBUG:cmdstanpy:CmdStan args: ['/usr/local/lib/python3.11/dist-packages/prophet/stan_model/prophet_model.bin', 'random', 'seed=46794', 'data', 'file=/tmp/tmpq8p032gs/uojmq73z.json', 'init=/tmp/tmpq8p032gs/_o_k6s53.json', 'output', 'file=/tmp/tmpq8p032gs/prophet_model6lsedtbg/prophet_model-20250323073956.csv', 'method=optimize', 'algorithm=lbfgs', 'iter=10000']\n",
            "07:39:56 - cmdstanpy - INFO - Chain [1] start processing\n",
            "INFO:cmdstanpy:Chain [1] start processing\n",
            "07:39:56 - cmdstanpy - INFO - Chain [1] done processing\n",
            "INFO:cmdstanpy:Chain [1] done processing\n"
          ]
        },
        {
          "output_type": "stream",
          "name": "stdout",
          "text": [
            "Prediction complete. File saved as 'predicted_anomalies_monthly_2021_2100.csv'.\n"
          ]
        }
      ]
    },
    {
      "cell_type": "code",
      "source": [
        "import pandas as pd\n",
        "from prophet import Prophet\n",
        "\n",
        "# Load dataset\n",
        "df = pd.read_csv(\"temp-1901-2020-all.csv\")\n",
        "print(\"🔍 Columns in CSV:\", df.columns.tolist())  # Debug check\n",
        "\n",
        "# Extract month abbreviation from 'Statistics' (e.g., \"Jan Average\")\n",
        "df['Month'] = df['Statistics'].str.slice(0, 3)\n",
        "\n",
        "# Map month abbreviations to numeric values\n",
        "month_map = {\n",
        "    'Jan': 1, 'Feb': 2, 'Mar': 3, 'Apr': 4,\n",
        "    'May': 5, 'Jun': 6, 'Jul': 7, 'Aug': 8,\n",
        "    'Sep': 9, 'Oct': 10, 'Nov': 11, 'Dec': 12\n",
        "}\n",
        "df['Month_num'] = df['Month'].map(month_map)\n",
        "\n",
        "# Add 'Day' column and datetime for Prophet\n",
        "df['Day'] = 1\n",
        "df['ds'] = pd.to_datetime(dict(year=df['Year'], month=df['Month_num'], day=df['Day']))\n",
        "\n",
        "# Rename Temperature to y for Prophet\n",
        "df = df.rename(columns={'Temperature': 'y'})\n",
        "\n",
        "# Prophet model\n",
        "model = Prophet()\n",
        "model.fit(df[['ds', 'y']])\n",
        "\n",
        "# Predict from 2021 to 2100 (monthly)\n",
        "future = model.make_future_dataframe(periods=(2100 - 2020) * 12, freq='MS')\n",
        "forecast = model.predict(future)\n",
        "\n",
        "# Filter only future predictions\n",
        "forecast_filtered = forecast[forecast['ds'].dt.year > 2020].copy()\n",
        "\n",
        "# Round temperature to 1 decimal\n",
        "forecast_filtered['Temperature'] = forecast_filtered['yhat'].round(1)\n",
        "\n",
        "# Extract Year and Month abbreviation\n",
        "forecast_filtered['Year'] = forecast_filtered['ds'].dt.year\n",
        "forecast_filtered['Month'] = forecast_filtered['ds'].dt.strftime('%b')\n",
        "\n",
        "# Create 'Statistics' as \"Jan Average\", etc.\n",
        "forecast_filtered['Statistics'] = forecast_filtered['Month'] + ' Average'\n",
        "\n",
        "# Add constant Country and ISO3 values\n",
        "forecast_filtered['Country'] = 'Australia'\n",
        "forecast_filtered['ISO3'] = 'AUS'\n",
        "\n",
        "# Final output format\n",
        "forecast_final = forecast_filtered[['Temperature', 'Year', 'Statistics', 'Country', 'ISO3']]\n",
        "\n",
        "# Save to CSV\n",
        "forecast_final.to_csv('temperature_predictions_2021_2100.csv', index=False)\n",
        "\n",
        "print(\"✅ Saved: 'temperature_predictions_2021_2100.csv'\")\n"
      ],
      "metadata": {
        "colab": {
          "base_uri": "https://localhost:8080/"
        },
        "id": "ytSPAa_w-Frw",
        "outputId": "0ad31617-7ef6-4dd9-fc56-3022637f9c06"
      },
      "execution_count": 9,
      "outputs": [
        {
          "output_type": "stream",
          "name": "stdout",
          "text": [
            "🔍 Columns in CSV: ['Temperature', 'Year', 'Statistics', 'Country', 'ISO3']\n"
          ]
        },
        {
          "output_type": "stream",
          "name": "stderr",
          "text": [
            "INFO:prophet:Disabling weekly seasonality. Run prophet with weekly_seasonality=True to override this.\n",
            "INFO:prophet:Disabling daily seasonality. Run prophet with daily_seasonality=True to override this.\n",
            "DEBUG:cmdstanpy:input tempfile: /tmp/tmpq8p032gs/senqnmdz.json\n",
            "DEBUG:cmdstanpy:input tempfile: /tmp/tmpq8p032gs/ate4r30t.json\n",
            "DEBUG:cmdstanpy:idx 0\n",
            "DEBUG:cmdstanpy:running CmdStan, num_threads: None\n",
            "DEBUG:cmdstanpy:CmdStan args: ['/usr/local/lib/python3.11/dist-packages/prophet/stan_model/prophet_model.bin', 'random', 'seed=52745', 'data', 'file=/tmp/tmpq8p032gs/senqnmdz.json', 'init=/tmp/tmpq8p032gs/ate4r30t.json', 'output', 'file=/tmp/tmpq8p032gs/prophet_model5lfpgouw/prophet_model-20250323075614.csv', 'method=optimize', 'algorithm=lbfgs', 'iter=10000']\n",
            "07:56:14 - cmdstanpy - INFO - Chain [1] start processing\n",
            "INFO:cmdstanpy:Chain [1] start processing\n",
            "07:56:37 - cmdstanpy - INFO - Chain [1] done processing\n",
            "INFO:cmdstanpy:Chain [1] done processing\n"
          ]
        },
        {
          "output_type": "stream",
          "name": "stdout",
          "text": [
            "✅ Saved: 'temperature_predictions_2021_2100.csv'\n"
          ]
        }
      ]
    }
  ]
}